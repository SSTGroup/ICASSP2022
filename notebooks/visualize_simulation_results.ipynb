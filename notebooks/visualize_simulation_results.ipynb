{
 "cells": [
  {
   "cell_type": "code",
   "execution_count": null,
   "metadata": {},
   "outputs": [],
   "source": [
    "%reload_ext autoreload\n",
    "%autoreload 2\n",
    "%matplotlib inline"
   ]
  },
  {
   "cell_type": "code",
   "execution_count": null,
   "metadata": {},
   "outputs": [],
   "source": [
    "import numpy as np\n",
    "import tikzplotlib\n",
    "from pathlib import Path"
   ]
  },
  {
   "cell_type": "code",
   "execution_count": null,
   "metadata": {},
   "outputs": [],
   "source": [
    "from ICASSP.visualization import boxplots_scenario1, boxplots_scenario2\n",
    "from independent_vector_analysis.visualization import plot_scv_covs"
   ]
  },
  {
   "cell_type": "markdown",
   "metadata": {},
   "source": [
    "# Plot SCV covariance matrices"
   ]
  },
  {
   "cell_type": "code",
   "execution_count": null,
   "metadata": {},
   "outputs": [],
   "source": [
    "cov = np.load(f'../simulations/simulated_cov_with_noise.npy')\n",
    "\n",
    "plot_scv_covs(cov, n_cols=4)"
   ]
  },
  {
   "cell_type": "markdown",
   "metadata": {},
   "source": [
    "# p-values and correlation with true sources"
   ]
  },
  {
   "cell_type": "code",
   "execution_count": null,
   "metadata": {
    "scrolled": false
   },
   "outputs": [],
   "source": [
    "results = np.load(f'../simulations/metrics_scenario_1.npy', allow_pickle=True).item()\n",
    "p_values_true = np.array(results['true']['pvalues'])\n",
    "p_values_parafac2 = np.array(results['parafac2']['pvalues'])\n",
    "p_values_iva = np.array(results['iva']['pvalues'])\n",
    "\n",
    "boxplots_scenario1(p_values_true, p_values_iva, p_values_parafac2)\n",
    "# boxplots_scenario2(p_values_true, p_values_iva, p_values_parafac2)\n",
    "\n",
    "print(f\"Average correlation between true and estimated sources for IVA: {np.mean(np.abs(results['iva']['corr']))}\")\n",
    "print(f\"Average correlation between true and estimated sources for PARAFAC2: {np.mean(np.abs(results['parafac2']['corr']))}\")"
   ]
  },
  {
   "cell_type": "code",
   "execution_count": null,
   "metadata": {},
   "outputs": [],
   "source": []
  }
 ],
 "metadata": {
  "kernelspec": {
   "display_name": "Python 3",
   "language": "python",
   "name": "python3"
  },
  "language_info": {
   "codemirror_mode": {
    "name": "ipython",
    "version": 3
   },
   "file_extension": ".py",
   "mimetype": "text/x-python",
   "name": "python",
   "nbconvert_exporter": "python",
   "pygments_lexer": "ipython3",
   "version": "3.8.5"
  }
 },
 "nbformat": 4,
 "nbformat_minor": 4
}
